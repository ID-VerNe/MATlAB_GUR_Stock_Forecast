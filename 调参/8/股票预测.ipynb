{
 "cells": [
  {
   "cell_type": "code",
   "execution_count": 1,
   "id": "ec227953",
   "metadata": {},
   "outputs": [],
   "source": [
    "import numpy as np\n",
    "import tensorflow as tf\n",
    "from tensorflow.keras.layers import Dropout, Dense, GRU\n",
    "import matplotlib.pyplot as plt\n",
    "import os\n",
    "import pandas as pd\n",
    "from sklearn.preprocessing import MinMaxScaler\n",
    "from sklearn.metrics import mean_squared_error, mean_absolute_error\n",
    "import math\n",
    "import time"
   ]
  },
  {
   "cell_type": "code",
   "execution_count": 2,
   "id": "e9535ee7",
   "metadata": {},
   "outputs": [],
   "source": [
    "plt.rcParams['font.sans-serif']=['SimHei']\n",
    "plt.rcParams['axes.unicode_minus']=False"
   ]
  },
  {
   "cell_type": "markdown",
   "id": "375f3cc1",
   "metadata": {},
   "source": [
    "### 读取股票文件"
   ]
  },
  {
   "cell_type": "code",
   "execution_count": 3,
   "id": "65bbea36",
   "metadata": {},
   "outputs": [],
   "source": [
    "zhongshihua = pd.read_csv('./SH600028.csv')  "
   ]
  },
  {
   "cell_type": "code",
   "execution_count": 4,
   "id": "20014d57",
   "metadata": {
    "scrolled": false
   },
   "outputs": [
    {
     "data": {
      "text/html": [
       "<div>\n",
       "<style scoped>\n",
       "    .dataframe tbody tr th:only-of-type {\n",
       "        vertical-align: middle;\n",
       "    }\n",
       "\n",
       "    .dataframe tbody tr th {\n",
       "        vertical-align: top;\n",
       "    }\n",
       "\n",
       "    .dataframe thead th {\n",
       "        text-align: right;\n",
       "    }\n",
       "</style>\n",
       "<table border=\"1\" class=\"dataframe\">\n",
       "  <thead>\n",
       "    <tr style=\"text-align: right;\">\n",
       "      <th></th>\n",
       "      <th>Unnamed: 0</th>\n",
       "      <th>date</th>\n",
       "      <th>open</th>\n",
       "      <th>close</th>\n",
       "      <th>high</th>\n",
       "      <th>low</th>\n",
       "      <th>volume</th>\n",
       "      <th>code</th>\n",
       "    </tr>\n",
       "  </thead>\n",
       "  <tbody>\n",
       "    <tr>\n",
       "      <th>0</th>\n",
       "      <td>0</td>\n",
       "      <td>2005-01-04</td>\n",
       "      <td>2.070</td>\n",
       "      <td>2.008</td>\n",
       "      <td>2.070</td>\n",
       "      <td>1.903</td>\n",
       "      <td>204927.00</td>\n",
       "      <td>600028</td>\n",
       "    </tr>\n",
       "    <tr>\n",
       "      <th>1</th>\n",
       "      <td>1</td>\n",
       "      <td>2005-01-05</td>\n",
       "      <td>2.008</td>\n",
       "      <td>1.979</td>\n",
       "      <td>2.008</td>\n",
       "      <td>1.965</td>\n",
       "      <td>205665.95</td>\n",
       "      <td>600028</td>\n",
       "    </tr>\n",
       "    <tr>\n",
       "      <th>2</th>\n",
       "      <td>2</td>\n",
       "      <td>2005-01-06</td>\n",
       "      <td>1.979</td>\n",
       "      <td>1.951</td>\n",
       "      <td>1.993</td>\n",
       "      <td>1.917</td>\n",
       "      <td>158663.61</td>\n",
       "      <td>600028</td>\n",
       "    </tr>\n",
       "    <tr>\n",
       "      <th>3</th>\n",
       "      <td>3</td>\n",
       "      <td>2005-01-07</td>\n",
       "      <td>1.955</td>\n",
       "      <td>1.993</td>\n",
       "      <td>2.036</td>\n",
       "      <td>1.951</td>\n",
       "      <td>91314.65</td>\n",
       "      <td>600028</td>\n",
       "    </tr>\n",
       "    <tr>\n",
       "      <th>4</th>\n",
       "      <td>4</td>\n",
       "      <td>2005-01-10</td>\n",
       "      <td>1.984</td>\n",
       "      <td>1.970</td>\n",
       "      <td>1.989</td>\n",
       "      <td>1.946</td>\n",
       "      <td>73510.45</td>\n",
       "      <td>600028</td>\n",
       "    </tr>\n",
       "    <tr>\n",
       "      <th>...</th>\n",
       "      <td>...</td>\n",
       "      <td>...</td>\n",
       "      <td>...</td>\n",
       "      <td>...</td>\n",
       "      <td>...</td>\n",
       "      <td>...</td>\n",
       "      <td>...</td>\n",
       "      <td>...</td>\n",
       "    </tr>\n",
       "    <tr>\n",
       "      <th>4028</th>\n",
       "      <td>4028</td>\n",
       "      <td>2021-10-11</td>\n",
       "      <td>4.610</td>\n",
       "      <td>4.620</td>\n",
       "      <td>4.670</td>\n",
       "      <td>4.560</td>\n",
       "      <td>2429407.00</td>\n",
       "      <td>600028</td>\n",
       "    </tr>\n",
       "    <tr>\n",
       "      <th>4029</th>\n",
       "      <td>4029</td>\n",
       "      <td>2021-10-12</td>\n",
       "      <td>4.590</td>\n",
       "      <td>4.510</td>\n",
       "      <td>4.650</td>\n",
       "      <td>4.460</td>\n",
       "      <td>2418625.00</td>\n",
       "      <td>600028</td>\n",
       "    </tr>\n",
       "    <tr>\n",
       "      <th>4030</th>\n",
       "      <td>4030</td>\n",
       "      <td>2021-10-13</td>\n",
       "      <td>4.470</td>\n",
       "      <td>4.330</td>\n",
       "      <td>4.480</td>\n",
       "      <td>4.290</td>\n",
       "      <td>3198332.00</td>\n",
       "      <td>600028</td>\n",
       "    </tr>\n",
       "    <tr>\n",
       "      <th>4031</th>\n",
       "      <td>4031</td>\n",
       "      <td>2021-10-14</td>\n",
       "      <td>4.330</td>\n",
       "      <td>4.340</td>\n",
       "      <td>4.380</td>\n",
       "      <td>4.290</td>\n",
       "      <td>1294875.00</td>\n",
       "      <td>600028</td>\n",
       "    </tr>\n",
       "    <tr>\n",
       "      <th>4032</th>\n",
       "      <td>4032</td>\n",
       "      <td>2021-10-15</td>\n",
       "      <td>4.370</td>\n",
       "      <td>4.420</td>\n",
       "      <td>4.420</td>\n",
       "      <td>4.320</td>\n",
       "      <td>2115251.00</td>\n",
       "      <td>600028</td>\n",
       "    </tr>\n",
       "  </tbody>\n",
       "</table>\n",
       "<p>4033 rows × 8 columns</p>\n",
       "</div>"
      ],
      "text/plain": [
       "      Unnamed: 0        date   open  close   high    low      volume    code\n",
       "0              0  2005-01-04  2.070  2.008  2.070  1.903   204927.00  600028\n",
       "1              1  2005-01-05  2.008  1.979  2.008  1.965   205665.95  600028\n",
       "2              2  2005-01-06  1.979  1.951  1.993  1.917   158663.61  600028\n",
       "3              3  2005-01-07  1.955  1.993  2.036  1.951    91314.65  600028\n",
       "4              4  2005-01-10  1.984  1.970  1.989  1.946    73510.45  600028\n",
       "...          ...         ...    ...    ...    ...    ...         ...     ...\n",
       "4028        4028  2021-10-11  4.610  4.620  4.670  4.560  2429407.00  600028\n",
       "4029        4029  2021-10-12  4.590  4.510  4.650  4.460  2418625.00  600028\n",
       "4030        4030  2021-10-13  4.470  4.330  4.480  4.290  3198332.00  600028\n",
       "4031        4031  2021-10-14  4.330  4.340  4.380  4.290  1294875.00  600028\n",
       "4032        4032  2021-10-15  4.370  4.420  4.420  4.320  2115251.00  600028\n",
       "\n",
       "[4033 rows x 8 columns]"
      ]
     },
     "execution_count": 4,
     "metadata": {},
     "output_type": "execute_result"
    }
   ],
   "source": [
    "zhongshihua"
   ]
  },
  {
   "cell_type": "markdown",
   "id": "69e0f576",
   "metadata": {},
   "source": [
    "### 用开盘数据做"
   ]
  },
  {
   "cell_type": "code",
   "execution_count": 5,
   "id": "23bc8f60",
   "metadata": {},
   "outputs": [],
   "source": [
    "test_num=260"
   ]
  },
  {
   "cell_type": "code",
   "execution_count": 6,
   "id": "5bb4e222",
   "metadata": {},
   "outputs": [],
   "source": [
    "training_set = zhongshihua.iloc[0:len(zhongshihua) - test_num, 2:3].values#第2列是开盘价格\n",
    "test_set = zhongshihua.iloc[len(zhongshihua) - test_num:, 2:3].values"
   ]
  },
  {
   "cell_type": "markdown",
   "id": "8dec9c9d",
   "metadata": {},
   "source": [
    "### 归一化处理（提高准确性）$x^*=\\frac{X-X_{min}}{X_{max}-X_{min}}$"
   ]
  },
  {
   "cell_type": "code",
   "execution_count": 7,
   "id": "26dac9de",
   "metadata": {},
   "outputs": [],
   "source": [
    "sc = MinMaxScaler(feature_range=(0, 1))  #用MinMaxScaler类进行最简单的归一化\n",
    "training_set_scaled = sc.fit_transform(training_set)\n",
    "test_set = sc.transform(test_set)"
   ]
  },
  {
   "cell_type": "markdown",
   "id": "24c30c56",
   "metadata": {},
   "source": [
    "### 创建训练集和测试集"
   ]
  },
  {
   "cell_type": "code",
   "execution_count": 8,
   "id": "5275ad2a",
   "metadata": {},
   "outputs": [],
   "source": [
    "x_train = []\n",
    "y_train = []\n",
    "x_test = []\n",
    "y_test = []"
   ]
  },
  {
   "cell_type": "code",
   "execution_count": 9,
   "id": "eb61f9d0",
   "metadata": {},
   "outputs": [],
   "source": [
    "longlonglong=60"
   ]
  },
  {
   "cell_type": "code",
   "execution_count": 10,
   "id": "1ee3e470",
   "metadata": {},
   "outputs": [],
   "source": [
    "for i in range(longlonglong, len(training_set_scaled)):  #从归一化的数据中取出带训练的数据，x为前60天数据，标签y为今天数据\n",
    "    x_train.append(training_set_scaled[i - longlonglong:i, 0])\n",
    "    y_train.append(training_set_scaled[i, 0])"
   ]
  },
  {
   "cell_type": "code",
   "execution_count": 11,
   "id": "15026e75",
   "metadata": {},
   "outputs": [],
   "source": [
    "np.random.seed(7)#乱序\n",
    "np.random.shuffle(x_train)\n",
    "np.random.seed(7)\n",
    "np.random.shuffle(y_train)\n",
    "tf.random.set_seed(7)"
   ]
  },
  {
   "cell_type": "code",
   "execution_count": 12,
   "id": "2f8e970c",
   "metadata": {},
   "outputs": [],
   "source": [
    "x_train, y_train = np.array(x_train), np.array(y_train)"
   ]
  },
  {
   "cell_type": "markdown",
   "id": "aa9ac069",
   "metadata": {},
   "source": [
    "### 丢入RNN"
   ]
  },
  {
   "cell_type": "code",
   "execution_count": 13,
   "id": "4f7fb83a",
   "metadata": {},
   "outputs": [],
   "source": [
    "x_train = np.reshape(x_train, (x_train.shape[0], longlonglong, 1))#重塑为rnn能读取的格式，60：每组有60个x，1：1次放进的参数x是一维的"
   ]
  },
  {
   "cell_type": "code",
   "execution_count": 14,
   "id": "d46f19a5",
   "metadata": {},
   "outputs": [],
   "source": [
    "for i in range(longlonglong, len(test_set)):    #取出测试数据\n",
    "    x_test.append(test_set[i - longlonglong:i, 0])\n",
    "    y_test.append(test_set[i, 0])"
   ]
  },
  {
   "cell_type": "code",
   "execution_count": 15,
   "id": "ffbc8498",
   "metadata": {},
   "outputs": [],
   "source": [
    "x_test, y_test = np.array(x_test), np.array(y_test)\n",
    "x_test = np.reshape(x_test, (x_test.shape[0], longlonglong, 1))"
   ]
  },
  {
   "cell_type": "markdown",
   "id": "fd78b93d",
   "metadata": {},
   "source": [
    "### 两次GRU，D=0.2"
   ]
  },
  {
   "cell_type": "code",
   "execution_count": 16,
   "id": "19c0bc86",
   "metadata": {},
   "outputs": [],
   "source": [
    "#第一层GRU：80个单元，每次返回ht参数\n",
    "#第二层GRU：100个单元，仅在最后一次返回ht参数\n",
    "#Dropout：每次令其中20%的单元休眠\n",
    "#Dense（1）：最后一层全链接层进行输出\n",
    "model = tf.keras.Sequential([   \n",
    "    GRU(20, return_sequences=True),\n",
    "    Dropout(0.7),\n",
    "    GRU(20),\n",
    "    Dropout(0.7),\n",
    "    Dense(1)\n",
    "])"
   ]
  },
  {
   "cell_type": "markdown",
   "id": "f98fbf5c",
   "metadata": {},
   "source": [
    "### loss用均方误差"
   ]
  },
  {
   "cell_type": "code",
   "execution_count": 17,
   "id": "03f2c94c",
   "metadata": {},
   "outputs": [],
   "source": [
    "#使用Adam优化器，初始学习率为0.001\n",
    "#loss函数使用均方误差\n",
    "model.compile(optimizer=tf.keras.optimizers.Adam(0.001),\n",
    "              loss='mean_squared_error')"
   ]
  },
  {
   "cell_type": "markdown",
   "id": "e2a55a71",
   "metadata": {},
   "source": [
    "### 建立checkpoint"
   ]
  },
  {
   "cell_type": "code",
   "execution_count": 18,
   "id": "da729d24",
   "metadata": {},
   "outputs": [
    {
     "name": "stdout",
     "output_type": "stream",
     "text": [
      "载入已有模型\n"
     ]
    }
   ],
   "source": [
    "checkpoint_save_path = \"./checkpoint/stock.ckpt\"\n",
    "\n",
    "if os.path.exists(checkpoint_save_path + '.index'):\n",
    "    print('载入已有模型')\n",
    "    model.load_weights(checkpoint_save_path)"
   ]
  },
  {
   "cell_type": "code",
   "execution_count": 19,
   "id": "536dd979",
   "metadata": {
    "scrolled": false
   },
   "outputs": [],
   "source": [
    "# cp_callback = tf.keras.callbacks.ModelCheckpoint(filepath=checkpoint_save_path,\n",
    "#                                                  save_weights_only=True,\n",
    "#                                                  save_best_only=True,\n",
    "#                                                  monitor='val_loss')\n",
    "# #开始训练，batch size为32，一共跑50轮，每一轮都验证一次\n",
    "# history = model.fit(x_train, y_train, batch_size=32, epochs=100, validation_data=(x_test, y_test), validation_freq=1,\n",
    "#                     callbacks=[cp_callback])"
   ]
  },
  {
   "cell_type": "markdown",
   "id": "93c051f5",
   "metadata": {},
   "source": [
    "### 储存权重"
   ]
  },
  {
   "cell_type": "code",
   "execution_count": 20,
   "id": "c1fb0291",
   "metadata": {},
   "outputs": [],
   "source": [
    "# file = open('./weights.txt', 'w') \n",
    "# for v in model.trainable_variables:\n",
    "#     file.write(str(v.name) + '\\n')\n",
    "#     file.write(str(v.shape) + '\\n')\n",
    "#     file.write(str(v.numpy()) + '\\n')\n",
    "# file.close()"
   ]
  },
  {
   "cell_type": "markdown",
   "id": "edb20457",
   "metadata": {},
   "source": [
    "### 反归一化 $x^*=\\frac{X-X_{min}}{X_{max}-X_{min}}$"
   ]
  },
  {
   "cell_type": "code",
   "execution_count": 21,
   "id": "aba0b710",
   "metadata": {},
   "outputs": [],
   "source": [
    "#在模型中放入测试数据\n",
    "predicted_stock_price = model.predict(x_test)\n",
    "#对结果进行反归一化\n",
    "predicted_stock_price = sc.inverse_transform(predicted_stock_price)\n",
    "real_stock_price = sc.inverse_transform(test_set[longlonglong:])"
   ]
  },
  {
   "cell_type": "markdown",
   "id": "3178cc47",
   "metadata": {},
   "source": [
    "### 500个对照"
   ]
  },
  {
   "cell_type": "code",
   "execution_count": 22,
   "id": "2d470dce",
   "metadata": {},
   "outputs": [
    {
     "data": {
      "image/png": "[encoded data removed]",
      "text/plain": [
       "<Figure size 780x520 with 1 Axes>"
      ]
     },
     "metadata": {
      "needs_background": "light"
     },
     "output_type": "display_data"
    }
   ],
   "source": [
    "plt.figure(dpi=130)\n",
    "plt.plot(real_stock_price, color='red', label='中石化实际开盘股价')\n",
    "plt.plot(predicted_stock_price, color='blue', label='预测开盘股价')\n",
    "plt.title('中石化预测')\n",
    "plt.xlabel('时间')\n",
    "plt.ylabel('中石化股价')\n",
    "plt.legend()\n",
    "plt.show()"
   ]
  },
  {
   "cell_type": "markdown",
   "id": "8cb6c9e3",
   "metadata": {},
   "source": [
    "### 2021年10月16日开盘为 4.37"
   ]
  },
  {
   "cell_type": "code",
   "execution_count": 23,
   "id": "839ff58d",
   "metadata": {},
   "outputs": [
    {
     "name": "stdout",
     "output_type": "stream",
     "text": [
      "预测开盘股价为: 4.4766984 ,偏差值: 2.441610951718256 %\n"
     ]
    }
   ],
   "source": [
    "pre=zhongshihua.iloc[len(zhongshihua) - longlonglong-1:, 2:3].values\n",
    "pre = sc.transform(pre)\n",
    "pred=[]\n",
    "pre=np.array(pre)\n",
    "for i in range(longlonglong, len(pre)):\n",
    "    pred.append(pre[i - longlonglong:i, 0])\n",
    "pred=np.array(pred)\n",
    "pred=np.reshape(pred,(pred.shape[0],longlonglong,1))\n",
    "predicted_stock_price = model.predict(pred)\n",
    "predicted_stock_price = sc.inverse_transform(predicted_stock_price)\n",
    "print('预测开盘股价为:',predicted_stock_price[0][0],',偏差值:',(predicted_stock_price[0][0]-4.37)/4.37*100,'%')"
   ]
  },
  {
   "cell_type": "code",
   "execution_count": 24,
   "id": "3505f551",
   "metadata": {},
   "outputs": [],
   "source": [
    "def rSquare(X,Y):\n",
    "    XMean = np.mean(X)\n",
    "    YMean = np.mean(Y)\n",
    "    #标准差\n",
    "    XSD = np.std(X)\n",
    "    YSD = np.std(Y)\n",
    "    #z分数\n",
    "    ZX = (X-XMean)/XSD\n",
    "    ZY = (Y-YMean)/YSD\n",
    "    #相关系数\n",
    "    r = np.sum(ZX*ZY)/(len(X))\n",
    "    return r"
   ]
  },
  {
   "cell_type": "code",
   "execution_count": 25,
   "id": "7a8d5994",
   "metadata": {},
   "outputs": [
    {
     "name": "stdout",
     "output_type": "stream",
     "text": [
      "运行时间： 63.62682373046875 ms\n",
      "确定系数： 0.8805516987400972\n"
     ]
    }
   ],
   "source": [
    "time_100=[]\n",
    "for i in range(100):\n",
    "    d1=time.time()*1000\n",
    "\n",
    "    #在模型中放入测试数据\n",
    "    predicted_stock_price = model.predict(x_test)\n",
    "    #对结果进行反归一化\n",
    "    predicted_stock_price = sc.inverse_transform(predicted_stock_price)\n",
    "    real_stock_price = sc.inverse_transform(test_set[longlonglong:])\n",
    "    predicted_stock_price_1=[]\n",
    "    real_stock_price_1=[]\n",
    "\n",
    "    for i,j in zip(predicted_stock_price,real_stock_price):\n",
    "        predicted_stock_price_1.append(i[0])\n",
    "        real_stock_price_1.append(j[0])\n",
    "\n",
    "    d2=time.time()*1000\n",
    "    time_100.append(d2-d1)\n",
    "\n",
    "print('运行时间：',str(np.mean(time_100)),'ms')\n",
    "print('确定系数：',rSquare(predicted_stock_price_1,real_stock_price_1))"
   ]
  },
  {
   "cell_type": "code",
   "execution_count": 26,
   "id": "1d35b07c",
   "metadata": {},
   "outputs": [
    {
     "data": {
      "text/plain": [
       "1.2928180802301796"
      ]
     },
     "execution_count": 26,
     "metadata": {},
     "output_type": "execute_result"
    }
   ],
   "source": [
    "r=rSquare(predicted_stock_price_1,real_stock_price_1)\n",
    "t=np.mean(time_100)\n",
    "(r*10+t)/(r*t)"
   ]
  }
 ],
 "metadata": {
  "kernelspec": {
   "display_name": "Python 3",
   "language": "python",
   "name": "python3"
  },
  "language_info": {
   "codemirror_mode": {
    "name": "ipython",
    "version": 3
   },
   "file_extension": ".py",
   "mimetype": "text/x-python",
   "name": "python",
   "nbconvert_exporter": "python",
   "pygments_lexer": "ipython3",
   "version": "3.8.8"
  }
 },
 "nbformat": 4,
 "nbformat_minor": 5
}
